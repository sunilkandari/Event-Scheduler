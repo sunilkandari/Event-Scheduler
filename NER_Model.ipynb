{
 "cells": [
  {
   "cell_type": "code",
   "execution_count": 1,
   "metadata": {
    "collapsed": false
   },
   "outputs": [
    {
     "name": "stderr",
     "output_type": "stream",
     "text": [
      "Using Theano backend.\n"
     ]
    }
   ],
   "source": [
    "import numpy as np\n",
    "import re\n",
    "from keras.datasets import imdb\n",
    "from keras.models import Sequential\n",
    "from keras.layers import Dense, LSTM, Dropout\n",
    "from keras.layers.embeddings import Embedding\n",
    "from keras.preprocessing import sequence\n",
    "import pandas as pd\n",
    "# fix random seed for reproducibility\n",
    "np.random.seed(7)"
   ]
  },
  {
   "cell_type": "markdown",
   "metadata": {},
   "source": [
    "### Preparing Training data"
   ]
  },
  {
   "cell_type": "code",
   "execution_count": 2,
   "metadata": {
    "collapsed": false
   },
   "outputs": [],
   "source": [
    "# Load training dataset\n",
    "X_train, y_train = [], []\n",
    "f = open(\"./PreProcess/preprocessed_filtered.txt\")\n",
    "for l in f:\n",
    "    if l.count(\" \") == 0 :\n",
    "        continue;\n",
    "    key, val = l.split()\n",
    "    key = re.sub('[^0-9a-zA-Z]+', '', key)\n",
    "    if len(key.strip())==0:\n",
    "        continue;\n",
    "    X_train += [ key.lower().strip() ]\n",
    "    y_train += [ val ]"
   ]
  },
  {
   "cell_type": "code",
   "execution_count": 3,
   "metadata": {
    "collapsed": true
   },
   "outputs": [],
   "source": [
    "d = {}\n",
    "f = open(\"./Word_Embeedings/Text_filtered.vectors.txt\")\n",
    "for l in f:\n",
    "    words = l.split()\n",
    "    d[ str(words[0]).strip() ] = [ float(v) for v in words[1:] ]"
   ]
  },
  {
   "cell_type": "code",
   "execution_count": 4,
   "metadata": {
    "collapsed": false
   },
   "outputs": [
    {
     "name": "stdout",
     "output_type": "stream",
     "text": [
      "Number of words for training:  48335  out of  52120\n"
     ]
    }
   ],
   "source": [
    "found = 0\n",
    "notFound = []\n",
    "newX = []\n",
    "newY = []\n",
    "for i in xrange( len(X_train) ):\n",
    "    key = str(X_train[i]).strip()\n",
    "    key = key.lower();\n",
    "    if key in d:\n",
    "        newX += [ d[key] ]\n",
    "        newY += [ 0 if y_train[i].strip() == 'none' else 1]\n",
    "        found += 1\n",
    "    else:\n",
    "        notFound += [key]\n",
    "print \"Number of words for training: \", found, \" out of \", len(X_train)"
   ]
  },
  {
   "cell_type": "code",
   "execution_count": 6,
   "metadata": {
    "collapsed": false,
    "scrolled": true
   },
   "outputs": [
    {
     "name": "stdout",
     "output_type": "stream",
     "text": [
      "(48335, 10) (48335,)\n"
     ]
    }
   ],
   "source": [
    "newX = np.array( [ np.array(x) for x in newX ] )\n",
    "newY = np.array( [ np.array(x) for x in newY ] )\n",
    "print newX.shape, newY.shape"
   ]
  },
  {
   "cell_type": "code",
   "execution_count": 7,
   "metadata": {
    "collapsed": false
   },
   "outputs": [],
   "source": [
    "def create_dataset(datasetX, datasetY, window=5):\n",
    "    dataX, dataY = [], []\n",
    "    for i in range(len(datasetX)-window):\n",
    "        dataX.append(datasetX[i:(i+window)])\n",
    "        dataY.append(datasetY[i + window/2])\n",
    "    return np.array(dataX), np.array(dataY)"
   ]
  },
  {
   "cell_type": "code",
   "execution_count": 8,
   "metadata": {
    "collapsed": false
   },
   "outputs": [],
   "source": [
    "trainX, trainY = create_dataset(newX, newY, 5 )"
   ]
  },
  {
   "cell_type": "code",
   "execution_count": 104,
   "metadata": {
    "collapsed": false
   },
   "outputs": [
    {
     "data": {
      "text/plain": [
       "(48330, 5, 10)"
      ]
     },
     "execution_count": 104,
     "metadata": {},
     "output_type": "execute_result"
    }
   ],
   "source": [
    "trainX.shape"
   ]
  },
  {
   "cell_type": "markdown",
   "metadata": {},
   "source": [
    "# Preparing Test data"
   ]
  },
  {
   "cell_type": "code",
   "execution_count": 18,
   "metadata": {
    "collapsed": false
   },
   "outputs": [],
   "source": [
    "# Load test dataset\n",
    "x_test, y_test = [], []\n",
    "f = open(\"./PreProcess/test_preprocessed.txt\")\n",
    "for l in f:\n",
    "    if l.count(\" \") == 0 :\n",
    "        continue;\n",
    "    l = l.split()\n",
    "    key, val = l[0], l[1]\n",
    "    key = re.sub('[^0-9a-zA-Z]+', '', key)\n",
    "    if len(key.strip())==0:\n",
    "        continue;\n",
    "    x_test += [ key.lower().strip() ]\n",
    "    y_test += [ val ]"
   ]
  },
  {
   "cell_type": "code",
   "execution_count": 19,
   "metadata": {
    "collapsed": false
   },
   "outputs": [
    {
     "name": "stdout",
     "output_type": "stream",
     "text": [
      "Number of words for training:  2872  out of  2872\n"
     ]
    }
   ],
   "source": [
    "found = 0\n",
    "notFound = []\n",
    "testX = []\n",
    "testY = []\n",
    "for i in xrange( len(x_test) ):\n",
    "    key = str(x_test[i]).strip()\n",
    "    key = key.lower();\n",
    "    if key in d:\n",
    "        testX += [ d[key] ]\n",
    "        testY += [ 0 if y_test[i].strip() == 'none' else 1]\n",
    "        found += 1\n",
    "    else:\n",
    "        notFound += [key]\n",
    "print \"Number of words for training: \", found, \" out of \", len(testX)"
   ]
  },
  {
   "cell_type": "code",
   "execution_count": 20,
   "metadata": {
    "collapsed": false
   },
   "outputs": [
    {
     "name": "stdout",
     "output_type": "stream",
     "text": [
      "(2872, 10) (2872,)\n"
     ]
    }
   ],
   "source": [
    "newX = np.array( [ np.array(x) for x in testX ] )\n",
    "newY = np.array( [ np.array(x) for x in testY ] )\n",
    "print newX.shape, newY.shape"
   ]
  },
  {
   "cell_type": "markdown",
   "metadata": {},
   "source": [
    "## Building model"
   ]
  },
  {
   "cell_type": "code",
   "execution_count": 121,
   "metadata": {
    "collapsed": false,
    "scrolled": true
   },
   "outputs": [
    {
     "name": "stdout",
     "output_type": "stream",
     "text": [
      "Epoch 1/100\n",
      "48330/48330 [==============================] - 26s - loss: 0.2114 - acc: 0.6684    \n",
      "Epoch 2/100\n",
      "48330/48330 [==============================] - 34s - loss: 0.1980 - acc: 0.6892    \n",
      "Epoch 3/100\n",
      "48330/48330 [==============================] - 33s - loss: 0.1947 - acc: 0.6945    \n",
      "Epoch 4/100\n",
      "48330/48330 [==============================] - 34s - loss: 0.1927 - acc: 0.6996    \n",
      "Epoch 5/100\n",
      "48330/48330 [==============================] - 33s - loss: 0.1914 - acc: 0.7030    \n",
      "Epoch 6/100\n",
      "48330/48330 [==============================] - 34s - loss: 0.1904 - acc: 0.7033    \n",
      "Epoch 7/100\n",
      "48330/48330 [==============================] - 34s - loss: 0.1897 - acc: 0.7056    \n",
      "Epoch 8/100\n",
      "48330/48330 [==============================] - 34s - loss: 0.1881 - acc: 0.7090    \n",
      "Epoch 9/100\n",
      "48330/48330 [==============================] - 35s - loss: 0.1876 - acc: 0.7107    \n",
      "Epoch 10/100\n",
      "48330/48330 [==============================] - 35s - loss: 0.1871 - acc: 0.7118    \n",
      "Epoch 11/100\n",
      "48330/48330 [==============================] - 34s - loss: 0.1861 - acc: 0.7133    \n",
      "Epoch 12/100\n",
      "48330/48330 [==============================] - 39s - loss: 0.1851 - acc: 0.7167    \n",
      "Epoch 13/100\n",
      "48330/48330 [==============================] - 38s - loss: 0.1844 - acc: 0.7164    \n",
      "Epoch 14/100\n",
      "48330/48330 [==============================] - 38s - loss: 0.1841 - acc: 0.7180    \n",
      "Epoch 15/100\n",
      "48330/48330 [==============================] - 38s - loss: 0.1829 - acc: 0.7208    \n",
      "Epoch 16/100\n",
      "48330/48330 [==============================] - 38s - loss: 0.1818 - acc: 0.7243    \n",
      "Epoch 17/100\n",
      "48330/48330 [==============================] - 39s - loss: 0.1815 - acc: 0.7240    \n",
      "Epoch 18/100\n",
      "48330/48330 [==============================] - 38s - loss: 0.1808 - acc: 0.7236    \n",
      "Epoch 19/100\n",
      "48330/48330 [==============================] - 39s - loss: 0.1804 - acc: 0.7250    \n",
      "Epoch 20/100\n",
      "48330/48330 [==============================] - 39s - loss: 0.1791 - acc: 0.7287    \n",
      "Epoch 21/100\n",
      "48330/48330 [==============================] - 39s - loss: 0.1784 - acc: 0.7318    \n",
      "Epoch 22/100\n",
      "48330/48330 [==============================] - 40s - loss: 0.1778 - acc: 0.7326    \n",
      "Epoch 23/100\n",
      "48330/48330 [==============================] - 39s - loss: 0.1772 - acc: 0.7340    \n",
      "Epoch 24/100\n",
      "48330/48330 [==============================] - 39s - loss: 0.1767 - acc: 0.7345    \n",
      "Epoch 25/100\n",
      "48330/48330 [==============================] - 38s - loss: 0.1760 - acc: 0.7355    \n",
      "Epoch 26/100\n",
      "48330/48330 [==============================] - 38s - loss: 0.1752 - acc: 0.7370    \n",
      "Epoch 27/100\n",
      "48330/48330 [==============================] - 38s - loss: 0.1750 - acc: 0.7376    \n",
      "Epoch 28/100\n",
      "48330/48330 [==============================] - 38s - loss: 0.1744 - acc: 0.7381    \n",
      "Epoch 29/100\n",
      "48330/48330 [==============================] - 38s - loss: 0.1735 - acc: 0.7415    \n",
      "Epoch 30/100\n",
      "48330/48330 [==============================] - 38s - loss: 0.1731 - acc: 0.7422    \n",
      "Epoch 31/100\n",
      "48330/48330 [==============================] - 37s - loss: 0.1721 - acc: 0.7424    \n",
      "Epoch 32/100\n",
      "48330/48330 [==============================] - 36s - loss: 0.1715 - acc: 0.7457    \n",
      "Epoch 33/100\n",
      "48330/48330 [==============================] - 37s - loss: 0.1710 - acc: 0.7475    \n",
      "Epoch 34/100\n",
      "48330/48330 [==============================] - 35s - loss: 0.1707 - acc: 0.7490    \n",
      "Epoch 35/100\n",
      "48330/48330 [==============================] - 35s - loss: 0.1700 - acc: 0.7475    \n",
      "Epoch 36/100\n",
      "48330/48330 [==============================] - 35s - loss: 0.1694 - acc: 0.7505    \n",
      "Epoch 37/100\n",
      "48330/48330 [==============================] - 34s - loss: 0.1691 - acc: 0.7506    \n",
      "Epoch 38/100\n",
      "48330/48330 [==============================] - 34s - loss: 0.1689 - acc: 0.7514    \n",
      "Epoch 39/100\n",
      "48330/48330 [==============================] - 33s - loss: 0.1686 - acc: 0.7516    \n",
      "Epoch 40/100\n",
      "48330/48330 [==============================] - 33s - loss: 0.1678 - acc: 0.7522    \n",
      "Epoch 41/100\n",
      "48330/48330 [==============================] - 32s - loss: 0.1676 - acc: 0.7539    \n",
      "Epoch 42/100\n",
      "48330/48330 [==============================] - 32s - loss: 0.1671 - acc: 0.7558    \n",
      "Epoch 43/100\n",
      "48330/48330 [==============================] - 31s - loss: 0.1665 - acc: 0.7557    \n",
      "Epoch 44/100\n",
      "48330/48330 [==============================] - 30s - loss: 0.1661 - acc: 0.7556    \n",
      "Epoch 45/100\n",
      "48330/48330 [==============================] - 30s - loss: 0.1656 - acc: 0.7576    \n",
      "Epoch 46/100\n",
      "48330/48330 [==============================] - 29s - loss: 0.1649 - acc: 0.7590    \n",
      "Epoch 47/100\n",
      "48330/48330 [==============================] - 29s - loss: 0.1648 - acc: 0.7589    \n",
      "Epoch 48/100\n",
      "48330/48330 [==============================] - 26s - loss: 0.1643 - acc: 0.7601    \n",
      "Epoch 49/100\n",
      "48330/48330 [==============================] - 26s - loss: 0.1636 - acc: 0.7622    \n",
      "Epoch 50/100\n",
      "48330/48330 [==============================] - 26s - loss: 0.1629 - acc: 0.7610    \n",
      "Epoch 51/100\n",
      "48330/48330 [==============================] - 26s - loss: 0.1630 - acc: 0.7630    \n",
      "Epoch 52/100\n",
      "48330/48330 [==============================] - 1679s - loss: 0.1632 - acc: 0.7633  \n",
      "Epoch 53/100\n",
      "48330/48330 [==============================] - 24s - loss: 0.1619 - acc: 0.7658    \n",
      "Epoch 54/100\n",
      "48330/48330 [==============================] - 25s - loss: 0.1621 - acc: 0.7663    \n",
      "Epoch 55/100\n",
      "48330/48330 [==============================] - 24s - loss: 0.1617 - acc: 0.7655    \n",
      "Epoch 56/100\n",
      "48330/48330 [==============================] - 24s - loss: 0.1609 - acc: 0.7680    \n",
      "Epoch 57/100\n",
      "48330/48330 [==============================] - 24s - loss: 0.1611 - acc: 0.7676    \n",
      "Epoch 58/100\n",
      "48330/48330 [==============================] - 25s - loss: 0.1604 - acc: 0.7706    \n",
      "Epoch 59/100\n",
      "48330/48330 [==============================] - 23s - loss: 0.1609 - acc: 0.7678    \n",
      "Epoch 60/100\n",
      "48330/48330 [==============================] - 24s - loss: 0.1604 - acc: 0.7698    \n",
      "Epoch 61/100\n",
      "48330/48330 [==============================] - 25s - loss: 0.1597 - acc: 0.7695    \n",
      "Epoch 62/100\n",
      "48330/48330 [==============================] - 24s - loss: 0.1598 - acc: 0.7699    \n",
      "Epoch 63/100\n",
      "48330/48330 [==============================] - 23s - loss: 0.1593 - acc: 0.7703    \n",
      "Epoch 64/100\n",
      "48330/48330 [==============================] - 26s - loss: 0.1589 - acc: 0.7726    \n",
      "Epoch 65/100\n",
      "48330/48330 [==============================] - 23s - loss: 0.1586 - acc: 0.7720    \n",
      "Epoch 66/100\n",
      "48330/48330 [==============================] - 23s - loss: 0.1586 - acc: 0.7729    \n",
      "Epoch 67/100\n",
      "48330/48330 [==============================] - 23s - loss: 0.1586 - acc: 0.7726    \n",
      "Epoch 68/100\n",
      "48330/48330 [==============================] - 27s - loss: 0.1576 - acc: 0.7750    \n",
      "Epoch 69/100\n",
      "48330/48330 [==============================] - 25s - loss: 0.1577 - acc: 0.7724    \n",
      "Epoch 70/100\n",
      "48330/48330 [==============================] - 24s - loss: 0.1574 - acc: 0.7764    \n",
      "Epoch 71/100\n",
      "48330/48330 [==============================] - 25s - loss: 0.1569 - acc: 0.7755    \n",
      "Epoch 72/100\n",
      "48330/48330 [==============================] - 24s - loss: 0.1566 - acc: 0.7765    \n",
      "Epoch 73/100\n",
      "48330/48330 [==============================] - 24s - loss: 0.1566 - acc: 0.7763    \n",
      "Epoch 74/100\n",
      "48330/48330 [==============================] - 26s - loss: 0.1561 - acc: 0.7775    \n",
      "Epoch 75/100\n",
      "48330/48330 [==============================] - 26s - loss: 0.1569 - acc: 0.7770    \n",
      "Epoch 76/100\n",
      "48330/48330 [==============================] - 25s - loss: 0.1558 - acc: 0.7765    \n",
      "Epoch 77/100\n",
      "48330/48330 [==============================] - 26s - loss: 0.1553 - acc: 0.7794    \n",
      "Epoch 78/100\n",
      "48330/48330 [==============================] - 25s - loss: 0.1554 - acc: 0.7800    \n",
      "Epoch 79/100\n",
      "48330/48330 [==============================] - 25s - loss: 0.1548 - acc: 0.7810    \n",
      "Epoch 80/100\n",
      "48330/48330 [==============================] - 25s - loss: 0.1549 - acc: 0.7808    \n",
      "Epoch 81/100\n",
      "48330/48330 [==============================] - 27s - loss: 0.1549 - acc: 0.7801    \n",
      "Epoch 82/100\n",
      "48330/48330 [==============================] - 25s - loss: 0.1546 - acc: 0.7820    \n",
      "Epoch 83/100\n",
      "48330/48330 [==============================] - 25s - loss: 0.1546 - acc: 0.7797    \n",
      "Epoch 84/100\n",
      "48330/48330 [==============================] - 25s - loss: 0.1541 - acc: 0.7822    \n",
      "Epoch 85/100\n",
      "48330/48330 [==============================] - 25s - loss: 0.1536 - acc: 0.7821    \n",
      "Epoch 86/100\n",
      "48330/48330 [==============================] - 25s - loss: 0.1534 - acc: 0.7840    \n",
      "Epoch 87/100\n",
      "48330/48330 [==============================] - 26s - loss: 0.1533 - acc: 0.7830    \n",
      "Epoch 88/100\n",
      "48330/48330 [==============================] - 25s - loss: 0.1531 - acc: 0.7838    \n",
      "Epoch 89/100\n",
      "48330/48330 [==============================] - 26s - loss: 0.1532 - acc: 0.7826    \n",
      "Epoch 90/100\n",
      "48330/48330 [==============================] - 25s - loss: 0.1528 - acc: 0.7856    \n",
      "Epoch 91/100\n",
      "48330/48330 [==============================] - 24s - loss: 0.1530 - acc: 0.7847    \n",
      "Epoch 92/100\n",
      "48330/48330 [==============================] - 25s - loss: 0.1530 - acc: 0.7851    \n",
      "Epoch 93/100\n",
      "48330/48330 [==============================] - 25s - loss: 0.1525 - acc: 0.7832    \n",
      "Epoch 94/100\n",
      "48330/48330 [==============================] - 24s - loss: 0.1524 - acc: 0.7850    \n",
      "Epoch 95/100\n",
      "48330/48330 [==============================] - 24s - loss: 0.1520 - acc: 0.7849    \n",
      "Epoch 96/100\n",
      "48330/48330 [==============================] - 25s - loss: 0.1515 - acc: 0.7865    \n",
      "Epoch 97/100\n",
      "48330/48330 [==============================] - 25s - loss: 0.1518 - acc: 0.7852    \n",
      "Epoch 98/100\n",
      "48330/48330 [==============================] - 25s - loss: 0.1518 - acc: 0.7849    \n",
      "Epoch 99/100\n",
      "48330/48330 [==============================] - 25s - loss: 0.1509 - acc: 0.7886    \n",
      "Epoch 100/100\n",
      "48330/48330 [==============================] - 25s - loss: 0.1512 - acc: 0.7870    \n"
     ]
    },
    {
     "data": {
      "text/plain": [
       "<keras.callbacks.History at 0x7fc5b0840350>"
      ]
     },
     "execution_count": 121,
     "metadata": {},
     "output_type": "execute_result"
    }
   ],
   "source": [
    "model = Sequential()\n",
    "model.add( LSTM(32, input_dim=10) )\n",
    "model.add(Dropout(0.3))\n",
    "model.add( Dense(1) )\n",
    "model.compile( loss=\"mean_squared_error\", optimizer=\"adam\", metrics=['accuracy'] )\n",
    "model.fit( trainX, trainY, nb_epoch=100, batch_size=10 )"
   ]
  },
  {
   "cell_type": "code",
   "execution_count": null,
   "metadata": {
    "collapsed": false
   },
   "outputs": [],
   "source": [
    "stateful_model = Sequential()\n",
    "stateful_model.add( LSTM(10, batch_input_shape=(1, 48330, 5, 10), stateful=True, return_sequences=True ) )\n",
    "stateful_model.add(Dropout(0.3))\n",
    "stateful_model.add( LSTM(10, stateful=True ) )\n",
    "stateful_model.add(Dropout(0.3))\n",
    "stateful_model.add( Dense(1) ) #0.1980\n",
    "stateful_model.compile( loss=\"mean_squared_error\", optimizer=\"adam\", metrics=['accuracy'] )\n",
    "for i in xrange(10):\n",
    "    print \"epoch: \", i\n",
    "    stateful_model.fit( state_trainX, trainY, nb_epoch=1, batch_size=5, shuffle=False )\n",
    "    stateful_model.reset_states()"
   ]
  },
  {
   "cell_type": "code",
   "execution_count": 110,
   "metadata": {
    "collapsed": false
   },
   "outputs": [
    {
     "name": "stdout",
     "output_type": "stream",
     "text": [
      "[0.16058620648470551, 0.76269397889509616]\n"
     ]
    }
   ],
   "source": [
    "trainScore = model.evaluate(trainX, trainY, batch_size=1, verbose=0 )\n",
    "print trainScore"
   ]
  },
  {
   "cell_type": "markdown",
   "metadata": {},
   "source": [
    "# Evaluate model on Test data"
   ]
  },
  {
   "cell_type": "code",
   "execution_count": 124,
   "metadata": {
    "collapsed": false,
    "scrolled": true
   },
   "outputs": [
    {
     "name": "stdout",
     "output_type": "stream",
     "text": [
      "[0.32856243809299845, 0.47331705615626091]\n"
     ]
    }
   ],
   "source": [
    "testScore = model.evaluate(testX, testY, batch_size=10, verbose=0 )\n",
    "print testScore"
   ]
  },
  {
   "cell_type": "code",
   "execution_count": 141,
   "metadata": {
    "collapsed": false
   },
   "outputs": [],
   "source": [
    "predictions = model.predict(testX)\n",
    "predictions = [ 1 if i>=0.5 else 0 for i in predictions ]"
   ]
  },
  {
   "cell_type": "code",
   "execution_count": 142,
   "metadata": {
    "collapsed": false
   },
   "outputs": [
    {
     "name": "stdout",
     "output_type": "stream",
     "text": [
      "1357 2867 1357\n"
     ]
    }
   ],
   "source": [
    "predOnes = 0\n",
    "for i in xrange(len(predictions)):\n",
    "    predOnes += (1 if predictions[i]==1 else 0 )\n",
    "    \n",
    "groundOnes = 0\n",
    "for i in xrange(len(testY)):\n",
    "    groundOnes += (1 if testY[i]==1 else 0 )\n",
    "    \n",
    "correctPredicOnes = 0\n",
    "for i in xrange(len(predictions)):\n",
    "    correctPredicOnes += (1 if predictions[i]==testY[i] else 0 )\n",
    "    \n",
    "print predOnes, groundOnes, correctPredicOnes"
   ]
  },
  {
   "cell_type": "code",
   "execution_count": 146,
   "metadata": {
    "collapsed": false
   },
   "outputs": [
    {
     "name": "stdout",
     "output_type": "stream",
     "text": [
      "Precision:  1.0\n",
      "Recall:  0.473317056156\n",
      "F-Score:  0.642518939394\n"
     ]
    }
   ],
   "source": [
    "p = 1.0*correctPredicOnes / predOnes\n",
    "r = 1.0*correctPredicOnes / groundOnes\n",
    "print \"Precision: \", p\n",
    "print \"Recall: \", r\n",
    "print \"F-Score: \", 2 * p* r/ (p+r)"
   ]
  }
 ],
 "metadata": {
  "kernelspec": {
   "display_name": "Python 2",
   "language": "python",
   "name": "python2"
  },
  "language_info": {
   "codemirror_mode": {
    "name": "ipython",
    "version": 2
   },
   "file_extension": ".py",
   "mimetype": "text/x-python",
   "name": "python",
   "nbconvert_exporter": "python",
   "pygments_lexer": "ipython2",
   "version": "2.7.6"
  }
 },
 "nbformat": 4,
 "nbformat_minor": 1
}
